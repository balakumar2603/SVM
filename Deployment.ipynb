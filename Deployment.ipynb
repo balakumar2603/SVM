{
 "cells": [
  {
   "cell_type": "code",
   "execution_count": 1,
   "metadata": {},
   "outputs": [],
   "source": [
    "import  pickle\n",
    "filename=\"finalized_model_multiple_linear.sav\"\n",
    "\n"
   ]
  },
  {
   "cell_type": "code",
   "execution_count": 2,
   "metadata": {},
   "outputs": [],
   "source": [
    "model=pickle.load(open(filename,'rb'))"
   ]
  },
  {
   "cell_type": "code",
   "execution_count": 3,
   "metadata": {},
   "outputs": [
    {
     "name": "stdout",
     "output_type": "stream",
     "text": [
      "R&D: 2000\n",
      "Administration: 300\n",
      "Marketing 400\n",
      "State Florida 0 or 10\n",
      "State New York 0 or 10\n"
     ]
    }
   ],
   "source": [
    "rd_input=int(input(\"R&D: \"))\n",
    "admin_input=int(input(\"Administration: \"))\n",
    "marketting_input=int(input(\"Marketing \"))\n",
    "florida_input=int(input(\"State Florida 0 or 1\"))\n",
    "newyork_input=int(input(\"State New York 0 or 1\"))\n"
   ]
  },
  {
   "cell_type": "code",
   "execution_count": 4,
   "metadata": {},
   "outputs": [
    {
     "data": {
      "text/plain": [
       "array([49229.40597355])"
      ]
     },
     "execution_count": 4,
     "metadata": {},
     "output_type": "execute_result"
    }
   ],
   "source": [
    "result=model.predict([[rd_input,admin_input,marketting_input,florida_input,newyork_input]])\n",
    "result"
   ]
  },
  {
   "cell_type": "code",
   "execution_count": null,
   "metadata": {},
   "outputs": [],
   "source": []
  }
 ],
 "metadata": {
  "kernelspec": {
   "display_name": "Python 3",
   "language": "python",
   "name": "python3"
  },
  "language_info": {
   "codemirror_mode": {
    "name": "ipython",
    "version": 3
   },
   "file_extension": ".py",
   "mimetype": "text/x-python",
   "name": "python",
   "nbconvert_exporter": "python",
   "pygments_lexer": "ipython3",
   "version": "3.7.4"
  }
 },
 "nbformat": 4,
 "nbformat_minor": 2
}
